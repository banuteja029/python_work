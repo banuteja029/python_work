{
 "cells": [
  {
   "cell_type": "markdown",
   "metadata": {},
   "source": [
    "# Sequence Datatype in python"
   ]
  },
  {
   "cell_type": "markdown",
   "metadata": {},
   "source": [
    "->Sequence datatype allows you to store multiple values in a organized and efficient way\n",
    "\n",
    "->There are several sequence types:\n",
    "    1) Strings\n",
    "    2)Lists\n",
    "    3)Tuples"
   ]
  },
  {
   "cell_type": "markdown",
   "metadata": {},
   "source": [
    "# Strings:"
   ]
  },
  {
   "cell_type": "markdown",
   "metadata": {},
   "source": [
    "-->string means sequence of characters enclosed in a 'single' or \"double\" or '''triple'''  quotes\n",
    "\n",
    "-->string in python is referred as textualdata \n",
    "\n",
    "-->string can store letters,numbers,symbols.\n",
    "\n",
    "-->syntax: \n",
    "            variablename=\"value\"\n",
    "\n",
    "-->To know what datatype is your string holding \n",
    "            type(variablename)\n",
    "         \n",
    "-->variable names should be descriptive and meaningful so,that others can also understand your code easily.\n",
    "            "
   ]
  },
  {
   "cell_type": "code",
   "execution_count": 2,
   "metadata": {},
   "outputs": [
    {
     "name": "stdout",
     "output_type": "stream",
     "text": [
      "Hello, how are you?\n"
     ]
    }
   ],
   "source": [
    "greetings=\"Hello, how are you?\"\n",
    "print(greetings)"
   ]
  },
  {
   "cell_type": "code",
   "execution_count": 4,
   "metadata": {},
   "outputs": [
    {
     "ename": "SyntaxError",
     "evalue": "invalid syntax (<ipython-input-4-f9f22d1aa6e5>, line 1)",
     "output_type": "error",
     "traceback": [
      "\u001b[1;36m  File \u001b[1;32m\"<ipython-input-4-f9f22d1aa6e5>\"\u001b[1;36m, line \u001b[1;32m1\u001b[0m\n\u001b[1;33m    If a string contains single quotes in between of your string\u001b[0m\n\u001b[1;37m       ^\u001b[0m\n\u001b[1;31mSyntaxError\u001b[0m\u001b[1;31m:\u001b[0m invalid syntax\n"
     ]
    }
   ],
   "source": [
    "-->If a string contains single quotes in between of your string in this way see below\n",
    "    \n",
    "    var='Hello enter your name's please'\n",
    "\n",
    "--> This code gives your syntax error called invalid syntax\n"
   ]
  },
  {
   "cell_type": "code",
   "execution_count": null,
   "metadata": {},
   "outputs": [],
   "source": [
    "-->To recover this error this syntax error see the below we can do this in two ways\n",
    "\n",
    "1) Using double quotes outside of the \"str'ing\"\n",
    "\n",
    "2) Using \\before the single 'quo\\'te'"
   ]
  },
  {
   "cell_type": "code",
   "execution_count": 6,
   "metadata": {},
   "outputs": [
    {
     "name": "stdout",
     "output_type": "stream",
     "text": [
      "Hello, What's your name\n"
     ]
    }
   ],
   "source": [
    "greetings=\"Hello, What's your name\"\n",
    "print(greetings)"
   ]
  },
  {
   "cell_type": "code",
   "execution_count": 7,
   "metadata": {},
   "outputs": [
    {
     "name": "stdout",
     "output_type": "stream",
     "text": [
      "Hello, What's your name\n"
     ]
    }
   ],
   "source": [
    "greetings='Hello, What\\'s your name'\n",
    "print(greetings)"
   ]
  },
  {
   "cell_type": "code",
   "execution_count": null,
   "metadata": {},
   "outputs": [],
   "source": [
    "* When to use single quotes?\n",
    "\n",
    "--> If your string contains double quotes in between using single quotes in outside the string\n",
    "        ex: 'single\"quotes'\n",
    "        \n",
    "* When to use double quotes?\n",
    "\n",
    "--> If your string contains single quotes in between using double quotes in outside the string or use \\ slash where there is single quote.\n",
    "        ex: \"single's quotes\"\n",
    "            'single\\'s quotes'\n",
    "            \n",
    "* When to use Triple quotes?\n",
    "--> If you want to display multiline at once you can see \n",
    "    \n",
    "    '''Please enter your name\n",
    "        and age'''"
   ]
  },
  {
   "cell_type": "code",
   "execution_count": 12,
   "metadata": {},
   "outputs": [
    {
     "name": "stdout",
     "output_type": "stream",
     "text": [
      "Please enter your name and age? \n",
      "and  \n",
      "where are you from\n"
     ]
    }
   ],
   "source": [
    "details='''Please enter your name and age? \n",
    "and  \n",
    "where are you from'''\n",
    "print(details)"
   ]
  },
  {
   "cell_type": "code",
   "execution_count": null,
   "metadata": {},
   "outputs": [],
   "source": [
    "-->If you want know how many character are there in the string by using len() we can know it\n",
    "-->Its inclusive of spaces in between."
   ]
  },
  {
   "cell_type": "code",
   "execution_count": 13,
   "metadata": {},
   "outputs": [
    {
     "name": "stdout",
     "output_type": "stream",
     "text": [
      "23\n"
     ]
    }
   ],
   "source": [
    "greetings=\"Hello, What's your name\"\n",
    "print(len(greetings))"
   ]
  },
  {
   "cell_type": "code",
   "execution_count": null,
   "metadata": {},
   "outputs": [],
   "source": [
    "--> To access the string indvidually use index.\n",
    "\n",
    "--> Index starts from 0 that is n-1\n",
    "\n",
    "-->If you try to access beyond the length of the string its gives an error called "
   ]
  },
  {
   "cell_type": "code",
   "execution_count": 16,
   "metadata": {},
   "outputs": [
    {
     "name": "stdout",
     "output_type": "stream",
     "text": [
      " \n"
     ]
    }
   ],
   "source": [
    "greetings=\"Hello, What's your name\"\n",
    "print(greetings[6]) # [] is used to identify which character is present in the string inside value .. If you try to access [6] it prints blankspace.\n",
    "\n"
   ]
  },
  {
   "cell_type": "code",
   "execution_count": null,
   "metadata": {},
   "outputs": [],
   "source": [
    "* To access range of character of string\n",
    "\n",
    "syntax: variable[intial:final]\n",
    "    \n",
    "--> intial is inclusive that means it includes\n",
    "\n",
    "-->: it separates intial and final\n",
    "    \n",
    "-->final is exclusive that means final-1 it will not print last character in the output\n",
    "\n",
    "--> to print whole string [:] print this"
   ]
  },
  {
   "cell_type": "code",
   "execution_count": 17,
   "metadata": {},
   "outputs": [
    {
     "name": "stdout",
     "output_type": "stream",
     "text": [
      "Hello, What's your name\n"
     ]
    }
   ],
   "source": [
    "greetings=\"Hello, What's your name\"\n",
    "print(greetings[:]) # this line prints whole string"
   ]
  },
  {
   "cell_type": "code",
   "execution_count": 18,
   "metadata": {},
   "outputs": [
    {
     "name": "stdout",
     "output_type": "stream",
     "text": [
      "Hello, What's your name\n"
     ]
    }
   ],
   "source": [
    "greetings=\"Hello, What's your name\"\n",
    "print(greetings[0:]) #it prints starting from [0] postion to end"
   ]
  },
  {
   "cell_type": "code",
   "execution_count": 19,
   "metadata": {},
   "outputs": [
    {
     "name": "stdout",
     "output_type": "stream",
     "text": [
      "Hello, What's your name\n"
     ]
    }
   ],
   "source": [
    "greetings=\"Hello, What's your name\"\n",
    "print(greetings[:23]) #it prints till last postion"
   ]
  },
  {
   "cell_type": "code",
   "execution_count": 20,
   "metadata": {},
   "outputs": [
    {
     "name": "stdout",
     "output_type": "stream",
     "text": [
      "Hello, What's your nam\n"
     ]
    }
   ],
   "source": [
    "greetings=\"Hello, What's your name\"\n",
    "print(greetings[:22]) #this will print n-1 exclusive of last character n-1"
   ]
  },
  {
   "cell_type": "code",
   "execution_count": 21,
   "metadata": {},
   "outputs": [
    {
     "name": "stdout",
     "output_type": "stream",
     "text": [
      "ello\n"
     ]
    }
   ],
   "source": [
    "greetings=\"Hello, What's your name\"\n",
    "print(greetings[1:5]) #this will print starting from [1] position to [5] position to access range of character in between."
   ]
  },
  {
   "cell_type": "code",
   "execution_count": 22,
   "metadata": {},
   "outputs": [
    {
     "name": "stdout",
     "output_type": "stream",
     "text": [
      "Hello,\n"
     ]
    }
   ],
   "source": [
    "greetings=\"Hello, What's your name\"\n",
    "print(greetings[:6]) #starting from [0]  to [6-1] position it will print"
   ]
  },
  {
   "cell_type": "markdown",
   "metadata": {},
   "source": [
    "# string methods"
   ]
  },
  {
   "cell_type": "markdown",
   "metadata": {},
   "source": [
    "-->To know all the string methods do in this way below by using dir(). run the code to see all the methods associated with string\n",
    "\n"
   ]
  },
  {
   "cell_type": "code",
   "execution_count": 25,
   "metadata": {},
   "outputs": [
    {
     "name": "stdout",
     "output_type": "stream",
     "text": [
      "['__add__', '__class__', '__contains__', '__delattr__', '__dir__', '__doc__', '__eq__', '__format__', '__ge__', '__getattribute__', '__getitem__', '__getnewargs__', '__gt__', '__hash__', '__init__', '__init_subclass__', '__iter__', '__le__', '__len__', '__lt__', '__mod__', '__mul__', '__ne__', '__new__', '__reduce__', '__reduce_ex__', '__repr__', '__rmod__', '__rmul__', '__setattr__', '__sizeof__', '__str__', '__subclasshook__', 'capitalize', 'casefold', 'center', 'count', 'encode', 'endswith', 'expandtabs', 'find', 'format', 'format_map', 'index', 'isalnum', 'isalpha', 'isascii', 'isdecimal', 'isdigit', 'isidentifier', 'islower', 'isnumeric', 'isprintable', 'isspace', 'istitle', 'isupper', 'join', 'ljust', 'lower', 'lstrip', 'maketrans', 'partition', 'replace', 'rfind', 'rindex', 'rjust', 'rpartition', 'rsplit', 'rstrip', 'split', 'splitlines', 'startswith', 'strip', 'swapcase', 'title', 'translate', 'upper', 'zfill']\n"
     ]
    }
   ],
   "source": [
    "str_methods=\"Hello universe\"\n",
    "print(dir(str_methods))"
   ]
  },
  {
   "cell_type": "code",
   "execution_count": 27,
   "metadata": {},
   "outputs": [
    {
     "name": "stdout",
     "output_type": "stream",
     "text": [
      "HELLO UNIVERSE\n"
     ]
    }
   ],
   "source": [
    "str_methods=\"Hello universe\"\n",
    "op=str_methods.upper()   #to convert string to upper case.\n",
    "print(op)"
   ]
  },
  {
   "cell_type": "code",
   "execution_count": 28,
   "metadata": {},
   "outputs": [
    {
     "name": "stdout",
     "output_type": "stream",
     "text": [
      "hello universe\n"
     ]
    }
   ],
   "source": [
    "str_methods=\"Hello universe\"\n",
    "op=str_methods.lower()   #to convert string to lower case.\n",
    "print(op)"
   ]
  },
  {
   "cell_type": "code",
   "execution_count": 30,
   "metadata": {},
   "outputs": [
    {
     "name": "stdout",
     "output_type": "stream",
     "text": [
      "1\n"
     ]
    }
   ],
   "source": [
    "str_methods=\"Hello universe\"\n",
    "op=str_methods.count('H')   #count is used to occuring character or words in a string it take single argument enclosed within quotes.\n",
    "print(op)"
   ]
  },
  {
   "cell_type": "code",
   "execution_count": 31,
   "metadata": {},
   "outputs": [
    {
     "name": "stdout",
     "output_type": "stream",
     "text": [
      "Hello how are you?\n"
     ]
    }
   ],
   "source": [
    "str_methods=\"Hello universe\"\n",
    "op=str_methods.replace('universe','how are you?')   #to convert string to upper case.\n",
    "print(op)"
   ]
  },
  {
   "cell_type": "markdown",
   "metadata": {},
   "source": [
    "-->fstring in python is available for 3.6 or above versions this fstrings a improvesid function of string formatting it can be sued ot string concatenate strings in python."
   ]
  },
  {
   "cell_type": "code",
   "execution_count": 33,
   "metadata": {},
   "outputs": [
    {
     "name": "stdout",
     "output_type": "stream",
     "text": [
      "Hello,Welcome to my github repo\n"
     ]
    }
   ],
   "source": [
    "greetings='Hello'\n",
    "name='Welcome to my github repo'\n",
    "op=f'{greetings},{name}'\n",
    "print(op)"
   ]
  },
  {
   "cell_type": "code",
   "execution_count": null,
   "metadata": {},
   "outputs": [],
   "source": []
  }
 ],
 "metadata": {
  "kernelspec": {
   "display_name": "Python 3",
   "language": "python",
   "name": "python3"
  },
  "language_info": {
   "codemirror_mode": {
    "name": "ipython",
    "version": 3
   },
   "file_extension": ".py",
   "mimetype": "text/x-python",
   "name": "python",
   "nbconvert_exporter": "python",
   "pygments_lexer": "ipython3",
   "version": "3.7.6"
  }
 },
 "nbformat": 4,
 "nbformat_minor": 4
}
